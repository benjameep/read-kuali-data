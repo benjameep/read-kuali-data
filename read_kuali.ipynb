{
 "cells": [
  {
   "cell_type": "code",
   "execution_count": null,
   "metadata": {},
   "outputs": [],
   "source": [
    "import requests\n",
    "import pandas as pd"
   ]
  },
  {
   "cell_type": "code",
   "execution_count": null,
   "metadata": {},
   "outputs": [],
   "source": [
    "def get_catalogs():\n",
    "    r = requests.get('https://byui.kuali.co/api/v1/catalog/public/catalogs')\n",
    "    r.raise_for_status()\n",
    "    return r.json()"
   ]
  },
  {
   "cell_type": "code",
   "execution_count": null,
   "metadata": {},
   "outputs": [],
   "source": [
    "def get_courses(cid):\n",
    "    url = 'https://byui.kuali.co/api/v1/catalog/courses/{cid}'.format(cid=cid)\n",
    "    r = requests.get(url)\n",
    "    r.raise_for_status()\n",
    "    return r.json()"
   ]
  },
  {
   "cell_type": "code",
   "execution_count": null,
   "metadata": {},
   "outputs": [],
   "source": [
    "def get_programs(cid):\n",
    "    url = 'https://byui.kuali.co/api/v1/catalog/programs/{cid}'.format(cid=cid)\n",
    "    r = requests.get(url)\n",
    "    r.raise_for_status()\n",
    "    return r.json()"
   ]
  },
  {
   "cell_type": "markdown",
   "metadata": {},
   "source": [
    "### Catalogs"
   ]
  },
  {
   "cell_type": "code",
   "execution_count": null,
   "metadata": {},
   "outputs": [],
   "source": [
    "catalogs = []\n",
    "for catalog in get_catalogs():\n",
    "    catalogs.append({\n",
    "        'id': catalog.get('_id'), \n",
    "        'startDate': catalog.get('startDate'),\n",
    "        'endDate': catalog.get('endDate'),\n",
    "        'title': catalog.get('title'),\n",
    "    })\n",
    "    \n",
    "pd.DataFrame(catalogs).to_csv('catalogs.csv', index=False)"
   ]
  },
  {
   "cell_type": "markdown",
   "metadata": {},
   "source": [
    "### Programs"
   ]
  },
  {
   "cell_type": "code",
   "execution_count": null,
   "metadata": {},
   "outputs": [],
   "source": [
    "programs = []\n",
    "for catalog in catalogs:\n",
    "    for program in get_programs(catalog['id']):\n",
    "        try:\n",
    "            programs.append({\n",
    "                'id': program.get('id'),\n",
    "                'pid': program.get('pid'),\n",
    "                'code': program.get('code'),\n",
    "                'title': program.get('title'),\n",
    "                'department': program.get('department').get('name'),\n",
    "                'programType': program.get('programType').get('name'),\n",
    "                'dateStart': program.get('dateStart'),\n",
    "                'catalog': catalog.get('title'),\n",
    "                'catalog_id': catalog.get('id'),\n",
    "            })\n",
    "        except:\n",
    "            print('Didn\\'t work for program in catalog {}'.format(catalog['id']))\n",
    "            print(program)\n",
    "\n",
    "pd.DataFrame(programs).to_csv('programs.csv', index=False)"
   ]
  },
  {
   "cell_type": "markdown",
   "metadata": {},
   "source": [
    "### Courses"
   ]
  },
  {
   "cell_type": "code",
   "execution_count": null,
   "metadata": {},
   "outputs": [],
   "source": [
    "courses = []\n",
    "for catalog in catalogs:\n",
    "    for course in get_courses(catalog['id']):\n",
    "        try:\n",
    "            courses.append({\n",
    "                'id': course.get('id'),\n",
    "                'pid': course.get('pid'),\n",
    "                'code': course.get('__catalogCourseId'),\n",
    "                'title': course.get('title'),\n",
    "                'subject': course.get('subjectCode').get('description'),\n",
    "                'subject_code': course.get('subjectCode').get('name'),\n",
    "                'dateStart': course.get('dateStart'),\n",
    "                'catalog': catalog.get('title'),\n",
    "                'catalog_id': catalog.get('id'),\n",
    "            })\n",
    "        except:\n",
    "            print('Didn\\'t work for course in catalog {}'.format(catalog['id']))\n",
    "            print(course)\n",
    "\n",
    "pd.DataFrame(courses).to_csv('courses.csv', index=False)"
   ]
  }
 ],
 "metadata": {
  "kernelspec": {
   "display_name": "Python 3",
   "language": "python",
   "name": "python3"
  },
  "language_info": {
   "codemirror_mode": {
    "name": "ipython",
    "version": 3
   },
   "file_extension": ".py",
   "mimetype": "text/x-python",
   "name": "python",
   "nbconvert_exporter": "python",
   "pygments_lexer": "ipython3",
   "version": "3.7.3"
  }
 },
 "nbformat": 4,
 "nbformat_minor": 2
}
